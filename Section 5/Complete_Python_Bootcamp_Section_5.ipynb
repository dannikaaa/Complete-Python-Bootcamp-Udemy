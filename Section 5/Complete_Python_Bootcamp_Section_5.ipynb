{
  "nbformat": 4,
  "nbformat_minor": 0,
  "metadata": {
    "colab": {
      "name": "Complete Python Bootcamp Section 5.ipynb",
      "version": "0.3.2",
      "provenance": [],
      "collapsed_sections": []
    },
    "kernelspec": {
      "name": "python3",
      "display_name": "Python 3"
    }
  },
  "cells": [
    {
      "cell_type": "markdown",
      "metadata": {
        "id": "pTx97bE9AVeO",
        "colab_type": "text"
      },
      "source": [
        "# **IF, ELIF, ELSE**\n",
        "\n",
        "  Syntax of an **if** statement\n",
        "          \n",
        "    if some_condition:\n",
        "            #execute some code\n",
        "    elif some_other_condition:\n",
        "            # do something different\n",
        "    else:\n",
        "            #do something else\n",
        "  \n",
        "            \n",
        "            \n",
        "    \n"
      ]
    },
    {
      "cell_type": "code",
      "metadata": {
        "id": "8u16NHvSAKn1",
        "colab_type": "code",
        "colab": {
          "base_uri": "https://localhost:8080/",
          "height": 35
        },
        "outputId": "f6608920-8093-4238-9832-7fd99c8cfe35"
      },
      "source": [
        "if True:\n",
        "  print('TRUE')"
      ],
      "execution_count": 27,
      "outputs": [
        {
          "output_type": "stream",
          "text": [
            "TRUE\n"
          ],
          "name": "stdout"
        }
      ]
    },
    {
      "cell_type": "code",
      "metadata": {
        "id": "xxJ_ZmygBanX",
        "colab_type": "code",
        "colab": {
          "base_uri": "https://localhost:8080/",
          "height": 35
        },
        "outputId": "4ecbd14f-c2ce-46e5-ff6b-82ccdb27ac9a"
      },
      "source": [
        "#changing the hungry from true to false changes the condition \n",
        "hungry = False\n",
        "\n",
        "if hungry:\n",
        "  print('FEED ME')\n",
        "else:\n",
        "  print('LETS DATE')"
      ],
      "execution_count": 28,
      "outputs": [
        {
          "output_type": "stream",
          "text": [
            "LETS DATE\n"
          ],
          "name": "stdout"
        }
      ]
    },
    {
      "cell_type": "code",
      "metadata": {
        "id": "g1Z1v0inCB-g",
        "colab_type": "code",
        "colab": {
          "base_uri": "https://localhost:8080/",
          "height": 35
        },
        "outputId": "90bc813c-b2ad-46bc-b85f-44651cc2f103"
      },
      "source": [
        "loc = 'bank'\n",
        "\n",
        "if loc == 'auto shop':\n",
        "  print('Cars are here')\n",
        "elif loc == 'Bank':\n",
        "  print('We are at the correct place')\n",
        "elif loc == 'store':\n",
        "  print('Are we looking for food?')\n",
        "else: \n",
        "  print('Why are we here')"
      ],
      "execution_count": 29,
      "outputs": [
        {
          "output_type": "stream",
          "text": [
            "Why are we here\n"
          ],
          "name": "stdout"
        }
      ]
    },
    {
      "cell_type": "code",
      "metadata": {
        "id": "H01ccMxSCf7o",
        "colab_type": "code",
        "colab": {
          "base_uri": "https://localhost:8080/",
          "height": 35
        },
        "outputId": "07aee010-b0ae-4bc7-8c2c-312b05bc215d"
      },
      "source": [
        "name = 'sammy'\n",
        "\n",
        "if name == 'frankie':\n",
        "  print('Hey Frankie')\n",
        "elif name == 'sammy':\n",
        "  print('hello sammy')\n",
        "else:\n",
        "  print('whats your name?')"
      ],
      "execution_count": 30,
      "outputs": [
        {
          "output_type": "stream",
          "text": [
            "hello sammy\n"
          ],
          "name": "stdout"
        }
      ]
    },
    {
      "cell_type": "markdown",
      "metadata": {
        "id": "J6VLGpwzAU1N",
        "colab_type": "text"
      },
      "source": [
        "# For Loops\n",
        "\n",
        "  - iterate over objects in a list\n",
        "    eg iterate over every character in string,\n",
        "          iterate over every item in a list,\n",
        "          iterate over every key in a dictionary \n",
        "          \n",
        "  - Syntax of a for loop\n",
        "  \n",
        "    my_list = [1,2,3]\n",
        "    \n",
        "    for item_name in my_list:\n",
        "        print(item_name)\n",
        "          \n",
        "      >> 1\n",
        "      >> 2\n",
        "      >>3\n",
        "      "
      ]
    },
    {
      "cell_type": "code",
      "metadata": {
        "id": "60k0SVwlDnSe",
        "colab_type": "code",
        "colab": {}
      },
      "source": [
        "mylist = [1,2,3,4,5,6,7,8,9,10]"
      ],
      "execution_count": 0,
      "outputs": []
    },
    {
      "cell_type": "code",
      "metadata": {
        "id": "_AQOlvtHGzL_",
        "colab_type": "code",
        "colab": {
          "base_uri": "https://localhost:8080/",
          "height": 191
        },
        "outputId": "95b3bf3f-07c7-412d-d206-ab41ed40fa71"
      },
      "source": [
        "# n can be anything <- item name\n",
        "for n in mylist:\n",
        "  print(n)"
      ],
      "execution_count": 32,
      "outputs": [
        {
          "output_type": "stream",
          "text": [
            "1\n",
            "2\n",
            "3\n",
            "4\n",
            "5\n",
            "6\n",
            "7\n",
            "8\n",
            "9\n",
            "10\n"
          ],
          "name": "stdout"
        }
      ]
    },
    {
      "cell_type": "code",
      "metadata": {
        "id": "p6MwKiVpHBLk",
        "colab_type": "code",
        "colab": {
          "base_uri": "https://localhost:8080/",
          "height": 191
        },
        "outputId": "1675a06c-a496-4e85-eded-0037ee8aa680"
      },
      "source": [
        "# times 10 times of hello\n",
        "for n in mylist:\n",
        "  print('hello')"
      ],
      "execution_count": 33,
      "outputs": [
        {
          "output_type": "stream",
          "text": [
            "hello\n",
            "hello\n",
            "hello\n",
            "hello\n",
            "hello\n",
            "hello\n",
            "hello\n",
            "hello\n",
            "hello\n",
            "hello\n"
          ],
          "name": "stdout"
        }
      ]
    },
    {
      "cell_type": "code",
      "metadata": {
        "id": "JvWamCcUHSyj",
        "colab_type": "code",
        "colab": {
          "base_uri": "https://localhost:8080/",
          "height": 191
        },
        "outputId": "180028bf-bd1e-4997-d2db-efbdc745118a"
      },
      "source": [
        "for num in mylist:\n",
        "  #check for even \n",
        "  if num % 2 == 0:\n",
        "    print(num)\n",
        "  else: #formatting \n",
        "    print(f'Odd Number: {num}')"
      ],
      "execution_count": 34,
      "outputs": [
        {
          "output_type": "stream",
          "text": [
            "Odd Number: 1\n",
            "2\n",
            "Odd Number: 3\n",
            "4\n",
            "Odd Number: 5\n",
            "6\n",
            "Odd Number: 7\n",
            "8\n",
            "Odd Number: 9\n",
            "10\n"
          ],
          "name": "stdout"
        }
      ]
    },
    {
      "cell_type": "code",
      "metadata": {
        "id": "A5U39kG_H2Oe",
        "colab_type": "code",
        "colab": {
          "base_uri": "https://localhost:8080/",
          "height": 35
        },
        "outputId": "ff8e8457-76de-402b-fc2a-17d082d2f8dd"
      },
      "source": [
        "list_sum = 0\n",
        "\n",
        "for num in mylist:\n",
        "  list_sum = list_sum + num\n",
        "  \n",
        "print(list_sum) ## needs to be outside of loop to get the total"
      ],
      "execution_count": 35,
      "outputs": [
        {
          "output_type": "stream",
          "text": [
            "55\n"
          ],
          "name": "stdout"
        }
      ]
    },
    {
      "cell_type": "code",
      "metadata": {
        "id": "tsCCusIMIqvY",
        "colab_type": "code",
        "colab": {
          "base_uri": "https://localhost:8080/",
          "height": 208
        },
        "outputId": "8dca9077-ba5a-498b-8370-07a9cd3d46bc"
      },
      "source": [
        "string = 'hello world'\n",
        "\n",
        "for letter in string:\n",
        "  print(letter)"
      ],
      "execution_count": 36,
      "outputs": [
        {
          "output_type": "stream",
          "text": [
            "h\n",
            "e\n",
            "l\n",
            "l\n",
            "o\n",
            " \n",
            "w\n",
            "o\n",
            "r\n",
            "l\n",
            "d\n"
          ],
          "name": "stdout"
        }
      ]
    },
    {
      "cell_type": "code",
      "metadata": {
        "id": "_EUh4HtOJB5P",
        "colab_type": "code",
        "colab": {
          "base_uri": "https://localhost:8080/",
          "height": 208
        },
        "outputId": "594ad498-18d9-4a70-8eb1-464fb9a486e7"
      },
      "source": [
        "for letter in 'hello world':\n",
        "  print(letter)"
      ],
      "execution_count": 37,
      "outputs": [
        {
          "output_type": "stream",
          "text": [
            "h\n",
            "e\n",
            "l\n",
            "l\n",
            "o\n",
            " \n",
            "w\n",
            "o\n",
            "r\n",
            "l\n",
            "d\n"
          ],
          "name": "stdout"
        }
      ]
    },
    {
      "cell_type": "code",
      "metadata": {
        "id": "hWreMEknJL7l",
        "colab_type": "code",
        "colab": {
          "base_uri": "https://localhost:8080/",
          "height": 208
        },
        "outputId": "6116714b-b8ed-4988-c857-5098786f1161"
      },
      "source": [
        "for letter in 'hello world':\n",
        "  print('yay man')"
      ],
      "execution_count": 38,
      "outputs": [
        {
          "output_type": "stream",
          "text": [
            "yay man\n",
            "yay man\n",
            "yay man\n",
            "yay man\n",
            "yay man\n",
            "yay man\n",
            "yay man\n",
            "yay man\n",
            "yay man\n",
            "yay man\n",
            "yay man\n"
          ],
          "name": "stdout"
        }
      ]
    },
    {
      "cell_type": "code",
      "metadata": {
        "id": "CrLMUaKcJUYL",
        "colab_type": "code",
        "colab": {
          "base_uri": "https://localhost:8080/",
          "height": 69
        },
        "outputId": "5ccd8df7-2e52-4e56-da2e-0b109c652b07"
      },
      "source": [
        "tup = (1,2,3)\n",
        "\n",
        "for item in tup:\n",
        "  print(item)"
      ],
      "execution_count": 39,
      "outputs": [
        {
          "output_type": "stream",
          "text": [
            "1\n",
            "2\n",
            "3\n"
          ],
          "name": "stdout"
        }
      ]
    },
    {
      "cell_type": "code",
      "metadata": {
        "id": "PHJ2U9nwJk9o",
        "colab_type": "code",
        "colab": {
          "base_uri": "https://localhost:8080/",
          "height": 35
        },
        "outputId": "769fd450-0d63-4a67-df11-c221bd675a9a"
      },
      "source": [
        "mylist = [(1,2),(3,4),(5,6),(7,8)]\n",
        "\n",
        "len(mylist)"
      ],
      "execution_count": 40,
      "outputs": [
        {
          "output_type": "execute_result",
          "data": {
            "text/plain": [
              "4"
            ]
          },
          "metadata": {
            "tags": []
          },
          "execution_count": 40
        }
      ]
    },
    {
      "cell_type": "code",
      "metadata": {
        "id": "JtE_FMSjKS70",
        "colab_type": "code",
        "colab": {
          "base_uri": "https://localhost:8080/",
          "height": 87
        },
        "outputId": "49815c74-5bfd-4162-d288-cef5d8c53c60"
      },
      "source": [
        "for item in mylist:\n",
        "  print(item)"
      ],
      "execution_count": 41,
      "outputs": [
        {
          "output_type": "stream",
          "text": [
            "(1, 2)\n",
            "(3, 4)\n",
            "(5, 6)\n",
            "(7, 8)\n"
          ],
          "name": "stdout"
        }
      ]
    },
    {
      "cell_type": "code",
      "metadata": {
        "id": "yyzz9e7yK5xp",
        "colab_type": "code",
        "colab": {
          "base_uri": "https://localhost:8080/",
          "height": 156
        },
        "outputId": "1135cadb-1171-44b0-df99-06042143d25c"
      },
      "source": [
        "for (a,b) in mylist:\n",
        "  print(a)\n",
        "  print(b)"
      ],
      "execution_count": 42,
      "outputs": [
        {
          "output_type": "stream",
          "text": [
            "1\n",
            "2\n",
            "3\n",
            "4\n",
            "5\n",
            "6\n",
            "7\n",
            "8\n"
          ],
          "name": "stdout"
        }
      ]
    },
    {
      "cell_type": "code",
      "metadata": {
        "id": "EW5a_DuXMBlU",
        "colab_type": "code",
        "colab": {}
      },
      "source": [
        "mylist = [(1,2,3),(5,6,7),(8,9,10)]"
      ],
      "execution_count": 0,
      "outputs": []
    },
    {
      "cell_type": "code",
      "metadata": {
        "id": "boKhFltiM0db",
        "colab_type": "code",
        "colab": {
          "base_uri": "https://localhost:8080/",
          "height": 69
        },
        "outputId": "6105b61f-9336-4dee-ebfb-af27435114b1"
      },
      "source": [
        "for a,b,c in mylist:\n",
        "  print(a)"
      ],
      "execution_count": 44,
      "outputs": [
        {
          "output_type": "stream",
          "text": [
            "1\n",
            "5\n",
            "8\n"
          ],
          "name": "stdout"
        }
      ]
    },
    {
      "cell_type": "code",
      "metadata": {
        "id": "bnKTUSYJM6al",
        "colab_type": "code",
        "colab": {
          "base_uri": "https://localhost:8080/",
          "height": 69
        },
        "outputId": "bc2c1164-dde9-4774-9f30-c39df464991f"
      },
      "source": [
        "for item in mylist:\n",
        "  print(item)"
      ],
      "execution_count": 45,
      "outputs": [
        {
          "output_type": "stream",
          "text": [
            "(1, 2, 3)\n",
            "(5, 6, 7)\n",
            "(8, 9, 10)\n"
          ],
          "name": "stdout"
        }
      ]
    },
    {
      "cell_type": "code",
      "metadata": {
        "id": "GT-SQPGLNEMR",
        "colab_type": "code",
        "colab": {
          "base_uri": "https://localhost:8080/",
          "height": 69
        },
        "outputId": "6ce65bb7-1e1c-4ae9-967f-7697ec545528"
      },
      "source": [
        "d = {'k1':1, 'k2':2, 'k3':3}\n",
        "\n",
        "for item in d.items():\n",
        "  print(item)"
      ],
      "execution_count": 46,
      "outputs": [
        {
          "output_type": "stream",
          "text": [
            "('k1', 1)\n",
            "('k2', 2)\n",
            "('k3', 3)\n"
          ],
          "name": "stdout"
        }
      ]
    },
    {
      "cell_type": "code",
      "metadata": {
        "id": "y57qoAwgNS6Z",
        "colab_type": "code",
        "colab": {
          "base_uri": "https://localhost:8080/",
          "height": 69
        },
        "outputId": "6b3adf12-f6a3-4140-8eb1-a9a31825d654"
      },
      "source": [
        "for key,value in d.items():\n",
        "  print(value)"
      ],
      "execution_count": 47,
      "outputs": [
        {
          "output_type": "stream",
          "text": [
            "1\n",
            "2\n",
            "3\n"
          ],
          "name": "stdout"
        }
      ]
    },
    {
      "cell_type": "code",
      "metadata": {
        "id": "6LJe597fXao4",
        "colab_type": "code",
        "colab": {
          "base_uri": "https://localhost:8080/",
          "height": 69
        },
        "outputId": "69bcaa20-903d-49a8-b358-d620a0861bfa"
      },
      "source": [
        "for item in d:\n",
        "  print(item)"
      ],
      "execution_count": 48,
      "outputs": [
        {
          "output_type": "stream",
          "text": [
            "k1\n",
            "k2\n",
            "k3\n"
          ],
          "name": "stdout"
        }
      ]
    },
    {
      "cell_type": "code",
      "metadata": {
        "id": "BABOidtehavI",
        "colab_type": "code",
        "colab": {
          "base_uri": "https://localhost:8080/",
          "height": 69
        },
        "outputId": "a2d7dbc1-953b-405c-a9ca-5cc73e6e3b2a"
      },
      "source": [
        "for value in d.values():\n",
        "  print(value)"
      ],
      "execution_count": 49,
      "outputs": [
        {
          "output_type": "stream",
          "text": [
            "1\n",
            "2\n",
            "3\n"
          ],
          "name": "stdout"
        }
      ]
    },
    {
      "cell_type": "markdown",
      "metadata": {
        "id": "hdGHlmQBpqxE",
        "colab_type": "text"
      },
      "source": [
        "# While Loops \n",
        "\n",
        "\n",
        "  - Syntax of while Loop\n",
        "  \n",
        "      while some_boolean_condition:\n",
        "        #do something\n",
        "      else:\n",
        "        # do something else"
      ]
    },
    {
      "cell_type": "code",
      "metadata": {
        "id": "-iUGs_CCpd5q",
        "colab_type": "code",
        "colab": {
          "base_uri": "https://localhost:8080/",
          "height": 121
        },
        "outputId": "0db40943-691d-474f-8021-2db24295cb81"
      },
      "source": [
        "x = 0\n",
        "\n",
        "while x < 5:\n",
        "  print(f'The current value of x is {x}')\n",
        "  x += 1\n",
        "else:\n",
        "  print('X is not less than 5')"
      ],
      "execution_count": 53,
      "outputs": [
        {
          "output_type": "stream",
          "text": [
            "The current value of x is 0\n",
            "The current value of x is 1\n",
            "The current value of x is 2\n",
            "The current value of x is 3\n",
            "The current value of x is 4\n",
            "X is not less than 5\n"
          ],
          "name": "stdout"
        }
      ]
    },
    {
      "cell_type": "markdown",
      "metadata": {
        "id": "YWJHwBRmr779",
        "colab_type": "text"
      },
      "source": [
        "**Break, Continue, Pass**\n",
        "\n",
        "We can break, continue, and pass statements in our loops to add additional functionality for various cases. There three statement are defined by:\n",
        "\n",
        "        break: Breaks out of current closest enclosing loop\n",
        "        continue: Goes to the top of the closest enclosing loop\n",
        "        pass: Does nothing at all"
      ]
    },
    {
      "cell_type": "code",
      "metadata": {
        "id": "ODmw0Tg_qJuY",
        "colab_type": "code",
        "colab": {
          "base_uri": "https://localhost:8080/",
          "height": 104
        },
        "outputId": "41220f2e-feec-4aa2-8465-0863172d9152"
      },
      "source": [
        "string = 'sammy'\n",
        "\n",
        "for letter in string:\n",
        "  print(letter)"
      ],
      "execution_count": 57,
      "outputs": [
        {
          "output_type": "stream",
          "text": [
            "s\n",
            "a\n",
            "m\n",
            "m\n",
            "y\n"
          ],
          "name": "stdout"
        }
      ]
    },
    {
      "cell_type": "code",
      "metadata": {
        "id": "FIZM6uejs4WG",
        "colab_type": "code",
        "colab": {
          "base_uri": "https://localhost:8080/",
          "height": 87
        },
        "outputId": "f850bf59-8570-48d4-a42f-2bd45d8b9a11"
      },
      "source": [
        "for letter in string:\n",
        "  if letter == 'a':\n",
        "    continue\n",
        "  print(letter)"
      ],
      "execution_count": 58,
      "outputs": [
        {
          "output_type": "stream",
          "text": [
            "s\n",
            "m\n",
            "m\n",
            "y\n"
          ],
          "name": "stdout"
        }
      ]
    },
    {
      "cell_type": "code",
      "metadata": {
        "id": "rtoSLYc5tSw6",
        "colab_type": "code",
        "colab": {
          "base_uri": "https://localhost:8080/",
          "height": 52
        },
        "outputId": "0bca655d-d681-463f-e4f0-9cfbafb4a0ff"
      },
      "source": [
        "x = 0\n",
        "\n",
        "while x < 5:\n",
        "  \n",
        "  if x == 2:\n",
        "    break\n",
        "  print(x)\n",
        "  x+=1"
      ],
      "execution_count": 62,
      "outputs": [
        {
          "output_type": "stream",
          "text": [
            "0\n",
            "1\n"
          ],
          "name": "stdout"
        }
      ]
    },
    {
      "cell_type": "markdown",
      "metadata": {
        "id": "66TTBKBdwMyM",
        "colab_type": "text"
      },
      "source": [
        "# Useful Operators\n",
        "\n"
      ]
    },
    {
      "cell_type": "code",
      "metadata": {
        "id": "POzVFkOytm4n",
        "colab_type": "code",
        "colab": {}
      },
      "source": [
        "mylist = [1,2,3]"
      ],
      "execution_count": 0,
      "outputs": []
    },
    {
      "cell_type": "code",
      "metadata": {
        "id": "T7OGF4otwVVF",
        "colab_type": "code",
        "colab": {
          "base_uri": "https://localhost:8080/",
          "height": 191
        },
        "outputId": "39c10c2d-4982-494d-e3ba-05987aeb47dd"
      },
      "source": [
        "for num in range(10):\n",
        "  print(num)"
      ],
      "execution_count": 64,
      "outputs": [
        {
          "output_type": "stream",
          "text": [
            "0\n",
            "1\n",
            "2\n",
            "3\n",
            "4\n",
            "5\n",
            "6\n",
            "7\n",
            "8\n",
            "9\n"
          ],
          "name": "stdout"
        }
      ]
    },
    {
      "cell_type": "code",
      "metadata": {
        "id": "35U2Lxt9wgfr",
        "colab_type": "code",
        "colab": {
          "base_uri": "https://localhost:8080/",
          "height": 139
        },
        "outputId": "baffd088-c290-436e-a9d7-54b42a8d441d"
      },
      "source": [
        "for num in range(3,10):\n",
        "  print(num)"
      ],
      "execution_count": 65,
      "outputs": [
        {
          "output_type": "stream",
          "text": [
            "3\n",
            "4\n",
            "5\n",
            "6\n",
            "7\n",
            "8\n",
            "9\n"
          ],
          "name": "stdout"
        }
      ]
    },
    {
      "cell_type": "code",
      "metadata": {
        "id": "HQzvCTsXwmFF",
        "colab_type": "code",
        "colab": {
          "base_uri": "https://localhost:8080/",
          "height": 104
        },
        "outputId": "8741fea0-45d8-45a9-f4f2-8317dff13e78"
      },
      "source": [
        "for num in range(0,10,2):\n",
        "  print(num)"
      ],
      "execution_count": 66,
      "outputs": [
        {
          "output_type": "stream",
          "text": [
            "0\n",
            "2\n",
            "4\n",
            "6\n",
            "8\n"
          ],
          "name": "stdout"
        }
      ]
    },
    {
      "cell_type": "code",
      "metadata": {
        "id": "c3BmXNIGwpQs",
        "colab_type": "code",
        "colab": {
          "base_uri": "https://localhost:8080/",
          "height": 35
        },
        "outputId": "33b10627-11b1-4dfc-b12c-f2bc6dbf1024"
      },
      "source": [
        "list(range(0,11,2))"
      ],
      "execution_count": 68,
      "outputs": [
        {
          "output_type": "execute_result",
          "data": {
            "text/plain": [
              "[0, 2, 4, 6, 8, 10]"
            ]
          },
          "metadata": {
            "tags": []
          },
          "execution_count": 68
        }
      ]
    },
    {
      "cell_type": "code",
      "metadata": {
        "id": "62Wd9TVnwzV4",
        "colab_type": "code",
        "colab": {
          "base_uri": "https://localhost:8080/",
          "height": 121
        },
        "outputId": "a77226f8-8495-4b46-e6ab-f780a477e542"
      },
      "source": [
        "index_count = 0\n",
        "\n",
        "for letter in 'abcdef':\n",
        "  print('at index {} the letter is {}'.format(index_count, letter))\n",
        "  index_count+=1"
      ],
      "execution_count": 70,
      "outputs": [
        {
          "output_type": "stream",
          "text": [
            "at index 0 the letter is a\n",
            "at index 1 the letter is b\n",
            "at index 2 the letter is c\n",
            "at index 3 the letter is d\n",
            "at index 4 the letter is e\n",
            "at index 5 the letter is f\n"
          ],
          "name": "stdout"
        }
      ]
    },
    {
      "cell_type": "code",
      "metadata": {
        "id": "3jmy5ascxCnh",
        "colab_type": "code",
        "colab": {
          "base_uri": "https://localhost:8080/",
          "height": 121
        },
        "outputId": "d1a0ab84-3bba-4675-8b49-bbc4f07470b2"
      },
      "source": [
        "count = 0\n",
        "word = 'abcdef'\n",
        "\n",
        "for letter in word:\n",
        "  print(word[count])\n",
        "  count+=1"
      ],
      "execution_count": 72,
      "outputs": [
        {
          "output_type": "stream",
          "text": [
            "a\n",
            "b\n",
            "c\n",
            "d\n",
            "e\n",
            "f\n"
          ],
          "name": "stdout"
        }
      ]
    },
    {
      "cell_type": "code",
      "metadata": {
        "id": "CHFaLAndxUqy",
        "colab_type": "code",
        "colab": {
          "base_uri": "https://localhost:8080/",
          "height": 104
        },
        "outputId": "6b27c482-ff95-4783-b1ce-1c565284a36a"
      },
      "source": [
        "word = 'abcde'\n",
        "\n",
        "for item in enumerate(word):\n",
        "  print(item)\n",
        "  #print(letter)"
      ],
      "execution_count": 74,
      "outputs": [
        {
          "output_type": "stream",
          "text": [
            "(0, 'a')\n",
            "(1, 'b')\n",
            "(2, 'c')\n",
            "(3, 'd')\n",
            "(4, 'e')\n"
          ],
          "name": "stdout"
        }
      ]
    },
    {
      "cell_type": "code",
      "metadata": {
        "id": "SsZ8Bv3dy2a7",
        "colab_type": "code",
        "colab": {
          "base_uri": "https://localhost:8080/",
          "height": 364
        },
        "outputId": "a5ae4419-de46-4dcd-cb7f-b115db824450"
      },
      "source": [
        "for index,letter in enumerate(word):\n",
        "  print(index)\n",
        "  print(letter)\n",
        "  print('\\n')"
      ],
      "execution_count": 76,
      "outputs": [
        {
          "output_type": "stream",
          "text": [
            "0\n",
            "a\n",
            "\n",
            "\n",
            "1\n",
            "b\n",
            "\n",
            "\n",
            "2\n",
            "c\n",
            "\n",
            "\n",
            "3\n",
            "d\n",
            "\n",
            "\n",
            "4\n",
            "e\n",
            "\n",
            "\n"
          ],
          "name": "stdout"
        }
      ]
    },
    {
      "cell_type": "code",
      "metadata": {
        "id": "R-74I3IOzF3B",
        "colab_type": "code",
        "colab": {
          "base_uri": "https://localhost:8080/",
          "height": 104
        },
        "outputId": "ca264ce5-71a6-4b0f-e01f-9f3925d67521"
      },
      "source": [
        "mylist = [1,2,3,4,5]\n",
        "mylist2 = ['a','b','c','d','e']\n",
        "mylist3 = [100,200,300,400,500]\n",
        "\n",
        "for item in zip(mylist, mylist2,mylist3):\n",
        "  print(item)"
      ],
      "execution_count": 82,
      "outputs": [
        {
          "output_type": "stream",
          "text": [
            "(1, 'a', 100)\n",
            "(2, 'b', 200)\n",
            "(3, 'c', 300)\n",
            "(4, 'd', 400)\n",
            "(5, 'e', 500)\n"
          ],
          "name": "stdout"
        }
      ]
    },
    {
      "cell_type": "code",
      "metadata": {
        "id": "4c7Q_9zNziqe",
        "colab_type": "code",
        "colab": {
          "base_uri": "https://localhost:8080/",
          "height": 35
        },
        "outputId": "64456f88-3122-4f80-c142-e10922d6cd8f"
      },
      "source": [
        "list(zip(mylist, mylist2))"
      ],
      "execution_count": 83,
      "outputs": [
        {
          "output_type": "execute_result",
          "data": {
            "text/plain": [
              "[(1, 'a'), (2, 'b'), (3, 'c'), (4, 'd'), (5, 'e')]"
            ]
          },
          "metadata": {
            "tags": []
          },
          "execution_count": 83
        }
      ]
    },
    {
      "cell_type": "code",
      "metadata": {
        "id": "pRr4I0H40aYt",
        "colab_type": "code",
        "colab": {
          "base_uri": "https://localhost:8080/",
          "height": 35
        },
        "outputId": "863a4c55-b14f-4403-e557-0ed327f9bf2e"
      },
      "source": [
        "'a' in 'a world'"
      ],
      "execution_count": 86,
      "outputs": [
        {
          "output_type": "execute_result",
          "data": {
            "text/plain": [
              "True"
            ]
          },
          "metadata": {
            "tags": []
          },
          "execution_count": 86
        }
      ]
    },
    {
      "cell_type": "code",
      "metadata": {
        "id": "zzfIGnos1EPj",
        "colab_type": "code",
        "colab": {
          "base_uri": "https://localhost:8080/",
          "height": 35
        },
        "outputId": "57e24676-d81c-4b00-b605-5bc73706139f"
      },
      "source": [
        "'mykey' in {'mykey':345}"
      ],
      "execution_count": 87,
      "outputs": [
        {
          "output_type": "execute_result",
          "data": {
            "text/plain": [
              "True"
            ]
          },
          "metadata": {
            "tags": []
          },
          "execution_count": 87
        }
      ]
    },
    {
      "cell_type": "code",
      "metadata": {
        "id": "tNg17Npe1Rml",
        "colab_type": "code",
        "colab": {
          "base_uri": "https://localhost:8080/",
          "height": 35
        },
        "outputId": "36d4d022-b669-4b19-c355-a2562a99e563"
      },
      "source": [
        "d = {'mykey': 345}\n",
        "\n",
        "345 in d.keys()"
      ],
      "execution_count": 88,
      "outputs": [
        {
          "output_type": "execute_result",
          "data": {
            "text/plain": [
              "False"
            ]
          },
          "metadata": {
            "tags": []
          },
          "execution_count": 88
        }
      ]
    },
    {
      "cell_type": "code",
      "metadata": {
        "id": "xEHZOTPr1zdo",
        "colab_type": "code",
        "colab": {}
      },
      "source": [
        "mylist = [10,20,30,40,50]"
      ],
      "execution_count": 0,
      "outputs": []
    },
    {
      "cell_type": "code",
      "metadata": {
        "id": "bCOJXedX16PT",
        "colab_type": "code",
        "colab": {
          "base_uri": "https://localhost:8080/",
          "height": 35
        },
        "outputId": "4f59b73d-8bc5-4d03-df61-3fe36cb14894"
      },
      "source": [
        "min(mylist)"
      ],
      "execution_count": 90,
      "outputs": [
        {
          "output_type": "execute_result",
          "data": {
            "text/plain": [
              "10"
            ]
          },
          "metadata": {
            "tags": []
          },
          "execution_count": 90
        }
      ]
    },
    {
      "cell_type": "code",
      "metadata": {
        "id": "X9juMUuk17Bk",
        "colab_type": "code",
        "colab": {
          "base_uri": "https://localhost:8080/",
          "height": 35
        },
        "outputId": "ff718af5-14f2-4c5c-bfd9-4307ee3b0e6c"
      },
      "source": [
        "max(mylist)"
      ],
      "execution_count": 91,
      "outputs": [
        {
          "output_type": "execute_result",
          "data": {
            "text/plain": [
              "50"
            ]
          },
          "metadata": {
            "tags": []
          },
          "execution_count": 91
        }
      ]
    },
    {
      "cell_type": "code",
      "metadata": {
        "id": "yJmzAfMl18G2",
        "colab_type": "code",
        "colab": {}
      },
      "source": [
        "from random import shuffle"
      ],
      "execution_count": 0,
      "outputs": []
    },
    {
      "cell_type": "code",
      "metadata": {
        "id": "2XjzBnEq2IlQ",
        "colab_type": "code",
        "colab": {}
      },
      "source": [
        "mylist = [1,2,3,4,5,6,7,8,9,10]"
      ],
      "execution_count": 0,
      "outputs": []
    },
    {
      "cell_type": "code",
      "metadata": {
        "id": "CXkaq_oG2P7D",
        "colab_type": "code",
        "colab": {}
      },
      "source": [
        "random_list = shuffle(mylist)"
      ],
      "execution_count": 0,
      "outputs": []
    },
    {
      "cell_type": "code",
      "metadata": {
        "id": "zvvm0ora2RSG",
        "colab_type": "code",
        "colab": {
          "base_uri": "https://localhost:8080/",
          "height": 35
        },
        "outputId": "22a1f9f0-6e65-4b1c-d1d1-2fbd30cb27c5"
      },
      "source": [
        "mylist"
      ],
      "execution_count": 98,
      "outputs": [
        {
          "output_type": "execute_result",
          "data": {
            "text/plain": [
              "[10, 3, 5, 4, 7, 2, 1, 6, 8, 9]"
            ]
          },
          "metadata": {
            "tags": []
          },
          "execution_count": 98
        }
      ]
    },
    {
      "cell_type": "code",
      "metadata": {
        "id": "uVjtDmQu2R55",
        "colab_type": "code",
        "colab": {}
      },
      "source": [
        "from random import randint"
      ],
      "execution_count": 0,
      "outputs": []
    },
    {
      "cell_type": "code",
      "metadata": {
        "id": "DUs72Mm82cpZ",
        "colab_type": "code",
        "colab": {
          "base_uri": "https://localhost:8080/",
          "height": 35
        },
        "outputId": "a3401eab-b4c5-466e-af40-e4ba0a2c9645"
      },
      "source": [
        "randint(0,100)"
      ],
      "execution_count": 100,
      "outputs": [
        {
          "output_type": "execute_result",
          "data": {
            "text/plain": [
              "98"
            ]
          },
          "metadata": {
            "tags": []
          },
          "execution_count": 100
        }
      ]
    },
    {
      "cell_type": "code",
      "metadata": {
        "id": "hwlQQqJw2eHS",
        "colab_type": "code",
        "colab": {
          "base_uri": "https://localhost:8080/",
          "height": 35
        },
        "outputId": "dcf6f7f1-4ff3-497b-8e46-65ae1fc35ba4"
      },
      "source": [
        "randint(0,100)"
      ],
      "execution_count": 101,
      "outputs": [
        {
          "output_type": "execute_result",
          "data": {
            "text/plain": [
              "55"
            ]
          },
          "metadata": {
            "tags": []
          },
          "execution_count": 101
        }
      ]
    },
    {
      "cell_type": "code",
      "metadata": {
        "id": "cDC9z3MH2lCh",
        "colab_type": "code",
        "colab": {}
      },
      "source": [
        "mynum = randint(0,10)"
      ],
      "execution_count": 0,
      "outputs": []
    },
    {
      "cell_type": "code",
      "metadata": {
        "id": "gV3MxVKd2ndW",
        "colab_type": "code",
        "colab": {
          "base_uri": "https://localhost:8080/",
          "height": 35
        },
        "outputId": "85adf51d-2e3c-47fa-8a87-9c8dad6d1127"
      },
      "source": [
        "mynum"
      ],
      "execution_count": 103,
      "outputs": [
        {
          "output_type": "execute_result",
          "data": {
            "text/plain": [
              "3"
            ]
          },
          "metadata": {
            "tags": []
          },
          "execution_count": 103
        }
      ]
    },
    {
      "cell_type": "code",
      "metadata": {
        "id": "WQ32z6L62n8U",
        "colab_type": "code",
        "colab": {
          "base_uri": "https://localhost:8080/",
          "height": 52
        },
        "outputId": "c4f9acb0-5cf2-48c7-e194-202bc523d289"
      },
      "source": [
        "input('enter a number: ')"
      ],
      "execution_count": 104,
      "outputs": [
        {
          "output_type": "stream",
          "text": [
            "enter a number: 4\n"
          ],
          "name": "stdout"
        },
        {
          "output_type": "execute_result",
          "data": {
            "text/plain": [
              "'4'"
            ]
          },
          "metadata": {
            "tags": []
          },
          "execution_count": 104
        }
      ]
    },
    {
      "cell_type": "code",
      "metadata": {
        "id": "jWXXXrBM2rRK",
        "colab_type": "code",
        "colab": {
          "base_uri": "https://localhost:8080/",
          "height": 35
        },
        "outputId": "e7b7aa83-f482-481d-bf02-4538c19cf5de"
      },
      "source": [
        "result = input('what is your name?')"
      ],
      "execution_count": 105,
      "outputs": [
        {
          "output_type": "stream",
          "text": [
            "what is your name?dan\n"
          ],
          "name": "stdout"
        }
      ]
    },
    {
      "cell_type": "code",
      "metadata": {
        "id": "r1NoMMTY3MIa",
        "colab_type": "code",
        "colab": {
          "base_uri": "https://localhost:8080/",
          "height": 35
        },
        "outputId": "e524e172-9adc-4f6e-ce05-173cb832abce"
      },
      "source": [
        "result"
      ],
      "execution_count": 106,
      "outputs": [
        {
          "output_type": "execute_result",
          "data": {
            "text/plain": [
              "'dan'"
            ]
          },
          "metadata": {
            "tags": []
          },
          "execution_count": 106
        }
      ]
    },
    {
      "cell_type": "markdown",
      "metadata": {
        "id": "FywsjJfd7qh3",
        "colab_type": "text"
      },
      "source": [
        "# List Comprehensions\n"
      ]
    },
    {
      "cell_type": "code",
      "metadata": {
        "id": "3Tm_Lf1z3O0J",
        "colab_type": "code",
        "colab": {}
      },
      "source": [
        "mystring = 'hello'"
      ],
      "execution_count": 0,
      "outputs": []
    },
    {
      "cell_type": "code",
      "metadata": {
        "id": "lQzYQD-x8BRm",
        "colab_type": "code",
        "colab": {}
      },
      "source": [
        "mylist = []\n",
        "\n",
        "for letter in mystring:\n",
        "  mylist.append(letter)"
      ],
      "execution_count": 0,
      "outputs": []
    },
    {
      "cell_type": "code",
      "metadata": {
        "id": "3Wey7YYb8GPp",
        "colab_type": "code",
        "colab": {
          "base_uri": "https://localhost:8080/",
          "height": 35
        },
        "outputId": "10861cad-71f4-45ea-c14f-75e1494e4ab1"
      },
      "source": [
        "mylist"
      ],
      "execution_count": 109,
      "outputs": [
        {
          "output_type": "execute_result",
          "data": {
            "text/plain": [
              "['h', 'e', 'l', 'l', 'o']"
            ]
          },
          "metadata": {
            "tags": []
          },
          "execution_count": 109
        }
      ]
    },
    {
      "cell_type": "code",
      "metadata": {
        "id": "_8jF67GL8HLm",
        "colab_type": "code",
        "colab": {}
      },
      "source": [
        "mylist = [letter for letter in mystring]"
      ],
      "execution_count": 0,
      "outputs": []
    },
    {
      "cell_type": "code",
      "metadata": {
        "id": "tiEsmYoc8cUA",
        "colab_type": "code",
        "colab": {
          "base_uri": "https://localhost:8080/",
          "height": 35
        },
        "outputId": "ba517d89-bf40-45cf-ceb2-9b380dc42285"
      },
      "source": [
        "mylist"
      ],
      "execution_count": 112,
      "outputs": [
        {
          "output_type": "execute_result",
          "data": {
            "text/plain": [
              "['h', 'e', 'l', 'l', 'o']"
            ]
          },
          "metadata": {
            "tags": []
          },
          "execution_count": 112
        }
      ]
    },
    {
      "cell_type": "code",
      "metadata": {
        "id": "H8N4_ZKR8eK-",
        "colab_type": "code",
        "colab": {}
      },
      "source": [
        "mylist = [x for x in 'word']"
      ],
      "execution_count": 0,
      "outputs": []
    },
    {
      "cell_type": "code",
      "metadata": {
        "id": "TwIITNHd8jGi",
        "colab_type": "code",
        "colab": {
          "base_uri": "https://localhost:8080/",
          "height": 35
        },
        "outputId": "4458e1d3-ad5f-4d0b-a6b7-1a01e1005382"
      },
      "source": [
        "mylist"
      ],
      "execution_count": 114,
      "outputs": [
        {
          "output_type": "execute_result",
          "data": {
            "text/plain": [
              "['w', 'o', 'r', 'd']"
            ]
          },
          "metadata": {
            "tags": []
          },
          "execution_count": 114
        }
      ]
    },
    {
      "cell_type": "code",
      "metadata": {
        "id": "SeABWeW68j_Z",
        "colab_type": "code",
        "colab": {}
      },
      "source": [
        "mylist = [x for x in range(0,11)]"
      ],
      "execution_count": 0,
      "outputs": []
    },
    {
      "cell_type": "code",
      "metadata": {
        "id": "6lhzFsgB81OO",
        "colab_type": "code",
        "colab": {
          "base_uri": "https://localhost:8080/",
          "height": 35
        },
        "outputId": "e0891b0d-2bd4-43d2-e07c-bded1adf1eb6"
      },
      "source": [
        "mylist"
      ],
      "execution_count": 116,
      "outputs": [
        {
          "output_type": "execute_result",
          "data": {
            "text/plain": [
              "[0, 1, 2, 3, 4, 5, 6, 7, 8, 9, 10]"
            ]
          },
          "metadata": {
            "tags": []
          },
          "execution_count": 116
        }
      ]
    },
    {
      "cell_type": "code",
      "metadata": {
        "id": "xVOoxxzx82NA",
        "colab_type": "code",
        "colab": {}
      },
      "source": [
        "mylist = [num**2 for num in range(0,11)]"
      ],
      "execution_count": 0,
      "outputs": []
    },
    {
      "cell_type": "code",
      "metadata": {
        "id": "GKaGg-IM9Hj3",
        "colab_type": "code",
        "colab": {
          "base_uri": "https://localhost:8080/",
          "height": 35
        },
        "outputId": "68d7654a-2020-464a-f10b-8893affc5a78"
      },
      "source": [
        "mylist"
      ],
      "execution_count": 118,
      "outputs": [
        {
          "output_type": "execute_result",
          "data": {
            "text/plain": [
              "[0, 1, 4, 9, 16, 25, 36, 49, 64, 81, 100]"
            ]
          },
          "metadata": {
            "tags": []
          },
          "execution_count": 118
        }
      ]
    },
    {
      "cell_type": "code",
      "metadata": {
        "id": "QLWyxu1O9INM",
        "colab_type": "code",
        "colab": {}
      },
      "source": [
        "mylist = [x for x in range(0,11) if x%2==0]"
      ],
      "execution_count": 0,
      "outputs": []
    },
    {
      "cell_type": "code",
      "metadata": {
        "id": "Bm-7tWA89WRQ",
        "colab_type": "code",
        "colab": {
          "base_uri": "https://localhost:8080/",
          "height": 35
        },
        "outputId": "c93e5cc1-482b-44e8-95d5-2efe07b5f6f1"
      },
      "source": [
        "mylist"
      ],
      "execution_count": 120,
      "outputs": [
        {
          "output_type": "execute_result",
          "data": {
            "text/plain": [
              "[0, 2, 4, 6, 8, 10]"
            ]
          },
          "metadata": {
            "tags": []
          },
          "execution_count": 120
        }
      ]
    },
    {
      "cell_type": "code",
      "metadata": {
        "id": "uZ73M24M9WsR",
        "colab_type": "code",
        "colab": {}
      },
      "source": [
        "celcius = [0,10,20,34.5]\n",
        "\n",
        "fahrenheit = [(9/5)*temp + 32 for temp in celcius]"
      ],
      "execution_count": 0,
      "outputs": []
    },
    {
      "cell_type": "code",
      "metadata": {
        "id": "fB9E-bw59oj3",
        "colab_type": "code",
        "colab": {
          "base_uri": "https://localhost:8080/",
          "height": 35
        },
        "outputId": "81b08474-23f2-4226-be27-bdee768c4995"
      },
      "source": [
        "fahrenheit"
      ],
      "execution_count": 122,
      "outputs": [
        {
          "output_type": "execute_result",
          "data": {
            "text/plain": [
              "[32.0, 50.0, 68.0, 94.1]"
            ]
          },
          "metadata": {
            "tags": []
          },
          "execution_count": 122
        }
      ]
    },
    {
      "cell_type": "code",
      "metadata": {
        "id": "eSFPhTqx9pvm",
        "colab_type": "code",
        "colab": {}
      },
      "source": [
        "fahrenheit = []\n",
        "\n",
        "for temp in celcius:\n",
        "  fahrenheit.append((9/5)*temp+32)"
      ],
      "execution_count": 0,
      "outputs": []
    },
    {
      "cell_type": "code",
      "metadata": {
        "id": "UIJiQM8W95k5",
        "colab_type": "code",
        "colab": {
          "base_uri": "https://localhost:8080/",
          "height": 35
        },
        "outputId": "7d148921-7371-4402-8e52-d4999e2d39cf"
      },
      "source": [
        "fahrenheit"
      ],
      "execution_count": 124,
      "outputs": [
        {
          "output_type": "execute_result",
          "data": {
            "text/plain": [
              "[32.0, 50.0, 68.0, 94.1]"
            ]
          },
          "metadata": {
            "tags": []
          },
          "execution_count": 124
        }
      ]
    },
    {
      "cell_type": "code",
      "metadata": {
        "id": "oU-Eh93e96m7",
        "colab_type": "code",
        "colab": {}
      },
      "source": [
        "result = [x if x%2==0 else 'ODD' for x in range(0,11)]"
      ],
      "execution_count": 0,
      "outputs": []
    },
    {
      "cell_type": "code",
      "metadata": {
        "id": "Mo1VUFOp-06X",
        "colab_type": "code",
        "colab": {
          "base_uri": "https://localhost:8080/",
          "height": 35
        },
        "outputId": "24946532-eed1-43c9-eee8-7c9374772294"
      },
      "source": [
        "result"
      ],
      "execution_count": 126,
      "outputs": [
        {
          "output_type": "execute_result",
          "data": {
            "text/plain": [
              "[0, 'ODD', 2, 'ODD', 4, 'ODD', 6, 'ODD', 8, 'ODD', 10]"
            ]
          },
          "metadata": {
            "tags": []
          },
          "execution_count": 126
        }
      ]
    },
    {
      "cell_type": "code",
      "metadata": {
        "id": "4n7IlfE_-1xb",
        "colab_type": "code",
        "colab": {}
      },
      "source": [
        "mylist = []\n",
        "\n",
        "for x in [2,4,6]:\n",
        "  for y in [10,200,300]:\n",
        "    mylist.append(x*y)"
      ],
      "execution_count": 0,
      "outputs": []
    },
    {
      "cell_type": "code",
      "metadata": {
        "id": "wwE2WO-P_1nk",
        "colab_type": "code",
        "colab": {
          "base_uri": "https://localhost:8080/",
          "height": 35
        },
        "outputId": "4eb58755-f0c4-4925-f415-96ed8962fb0c"
      },
      "source": [
        "mylist"
      ],
      "execution_count": 130,
      "outputs": [
        {
          "output_type": "execute_result",
          "data": {
            "text/plain": [
              "[20, 400, 600, 40, 800, 1200, 60, 1200, 1800]"
            ]
          },
          "metadata": {
            "tags": []
          },
          "execution_count": 130
        }
      ]
    },
    {
      "cell_type": "code",
      "metadata": {
        "id": "CwMhtuvN_2aB",
        "colab_type": "code",
        "colab": {}
      },
      "source": [
        "mylist = [x*y for x in [2,4,6] for y in [1,10,1000]]"
      ],
      "execution_count": 0,
      "outputs": []
    },
    {
      "cell_type": "code",
      "metadata": {
        "id": "hQlEShGxAHp4",
        "colab_type": "code",
        "colab": {
          "base_uri": "https://localhost:8080/",
          "height": 35
        },
        "outputId": "a2ddfac0-7fc6-4764-aa92-46eaea7e7f10"
      },
      "source": [
        "mylist"
      ],
      "execution_count": 132,
      "outputs": [
        {
          "output_type": "execute_result",
          "data": {
            "text/plain": [
              "[2, 20, 2000, 4, 40, 4000, 6, 60, 6000]"
            ]
          },
          "metadata": {
            "tags": []
          },
          "execution_count": 132
        }
      ]
    },
    {
      "cell_type": "code",
      "metadata": {
        "id": "Yc_e2fN6AIga",
        "colab_type": "code",
        "colab": {}
      },
      "source": [
        ""
      ],
      "execution_count": 0,
      "outputs": []
    }
  ]
}