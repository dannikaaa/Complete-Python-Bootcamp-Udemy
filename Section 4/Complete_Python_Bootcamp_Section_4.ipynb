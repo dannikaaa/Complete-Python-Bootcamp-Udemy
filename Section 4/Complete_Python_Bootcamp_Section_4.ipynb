{
  "nbformat": 4,
  "nbformat_minor": 0,
  "metadata": {
    "colab": {
      "name": "Complete Python Bootcamp Section 4.ipynb",
      "version": "0.3.2",
      "provenance": [],
      "collapsed_sections": []
    },
    "kernelspec": {
      "name": "python3",
      "display_name": "Python 3"
    }
  },
  "cells": [
    {
      "cell_type": "markdown",
      "metadata": {
        "id": "Q3OKAEku6r9a",
        "colab_type": "text"
      },
      "source": [
        "# Comparison Operators \n",
        " - Allows us to compare variables and output a Boolean value (True or False)"
      ]
    },
    {
      "cell_type": "markdown",
      "metadata": {
        "id": "j9lb2eV97I2c",
        "colab_type": "text"
      },
      "source": [
        "**Table of Comparison Operators**\n",
        "  - a = 3 & b = 4\n",
        "  \n",
        "\n",
        "---\n",
        "\n",
        "  \n",
        "  \n",
        "  \n",
        "  "
      ]
    },
    {
      "cell_type": "code",
      "metadata": {
        "id": "5OV2KB7F6Wmi",
        "colab_type": "code",
        "outputId": "c3e958a7-d293-48db-d937-7be3647d2c2d",
        "colab": {
          "base_uri": "https://localhost:8080/",
          "height": 35
        }
      },
      "source": [
        "2 == 2"
      ],
      "execution_count": 0,
      "outputs": [
        {
          "output_type": "execute_result",
          "data": {
            "text/plain": [
              "True"
            ]
          },
          "metadata": {
            "tags": []
          },
          "execution_count": 1
        }
      ]
    },
    {
      "cell_type": "code",
      "metadata": {
        "id": "9RjcHygh7dj9",
        "colab_type": "code",
        "outputId": "6e91f8b2-22f9-4c7f-8ef0-af2dd21429fc",
        "colab": {
          "base_uri": "https://localhost:8080/",
          "height": 35
        }
      },
      "source": [
        "2 == 1"
      ],
      "execution_count": 0,
      "outputs": [
        {
          "output_type": "execute_result",
          "data": {
            "text/plain": [
              "False"
            ]
          },
          "metadata": {
            "tags": []
          },
          "execution_count": 2
        }
      ]
    },
    {
      "cell_type": "code",
      "metadata": {
        "id": "MdhR9i2r7eaa",
        "colab_type": "code",
        "outputId": "46adfb80-99ec-4d28-d619-42fd1ab6c782",
        "colab": {
          "base_uri": "https://localhost:8080/",
          "height": 35
        }
      },
      "source": [
        "'hello' == 'bye'"
      ],
      "execution_count": 0,
      "outputs": [
        {
          "output_type": "execute_result",
          "data": {
            "text/plain": [
              "False"
            ]
          },
          "metadata": {
            "tags": []
          },
          "execution_count": 3
        }
      ]
    },
    {
      "cell_type": "code",
      "metadata": {
        "id": "9TYTSR1f7k2z",
        "colab_type": "code",
        "outputId": "bbe7fb5a-989c-41ac-db4e-3a85efda314b",
        "colab": {
          "base_uri": "https://localhost:8080/",
          "height": 35
        }
      },
      "source": [
        "'bye' == 'bye'"
      ],
      "execution_count": 0,
      "outputs": [
        {
          "output_type": "execute_result",
          "data": {
            "text/plain": [
              "True"
            ]
          },
          "metadata": {
            "tags": []
          },
          "execution_count": 4
        }
      ]
    },
    {
      "cell_type": "code",
      "metadata": {
        "id": "-GH11bvv7mLD",
        "colab_type": "code",
        "outputId": "41791ae6-a326-4446-db94-d034ca8fc0c0",
        "colab": {
          "base_uri": "https://localhost:8080/",
          "height": 35
        }
      },
      "source": [
        "2.0 == 2"
      ],
      "execution_count": 0,
      "outputs": [
        {
          "output_type": "execute_result",
          "data": {
            "text/plain": [
              "True"
            ]
          },
          "metadata": {
            "tags": []
          },
          "execution_count": 5
        }
      ]
    },
    {
      "cell_type": "code",
      "metadata": {
        "id": "FQhlYZXv7qyA",
        "colab_type": "code",
        "outputId": "064dc7fa-c0e7-460b-9fb1-905af340e9ac",
        "colab": {
          "base_uri": "https://localhost:8080/",
          "height": 35
        }
      },
      "source": [
        "'2' == 2"
      ],
      "execution_count": 0,
      "outputs": [
        {
          "output_type": "execute_result",
          "data": {
            "text/plain": [
              "False"
            ]
          },
          "metadata": {
            "tags": []
          },
          "execution_count": 6
        }
      ]
    },
    {
      "cell_type": "code",
      "metadata": {
        "id": "B-jMRPII7r6v",
        "colab_type": "code",
        "outputId": "5e62a9dc-f334-421f-b03e-0cd592eea2f8",
        "colab": {
          "base_uri": "https://localhost:8080/",
          "height": 35
        }
      },
      "source": [
        "4 != 5"
      ],
      "execution_count": 0,
      "outputs": [
        {
          "output_type": "execute_result",
          "data": {
            "text/plain": [
              "True"
            ]
          },
          "metadata": {
            "tags": []
          },
          "execution_count": 7
        }
      ]
    },
    {
      "cell_type": "code",
      "metadata": {
        "id": "y7Aa8GpT7x6K",
        "colab_type": "code",
        "outputId": "dd165dbe-265d-4092-ba0f-99b0a93efbd3",
        "colab": {
          "base_uri": "https://localhost:8080/",
          "height": 35
        }
      },
      "source": [
        "1 > 2"
      ],
      "execution_count": 0,
      "outputs": [
        {
          "output_type": "execute_result",
          "data": {
            "text/plain": [
              "False"
            ]
          },
          "metadata": {
            "tags": []
          },
          "execution_count": 8
        }
      ]
    },
    {
      "cell_type": "code",
      "metadata": {
        "id": "05rGAuUu7ypF",
        "colab_type": "code",
        "outputId": "07620e17-c74f-4c46-c14a-0d3d1a29d088",
        "colab": {
          "base_uri": "https://localhost:8080/",
          "height": 35
        }
      },
      "source": [
        "1 < 2"
      ],
      "execution_count": 0,
      "outputs": [
        {
          "output_type": "execute_result",
          "data": {
            "text/plain": [
              "True"
            ]
          },
          "metadata": {
            "tags": []
          },
          "execution_count": 9
        }
      ]
    },
    {
      "cell_type": "code",
      "metadata": {
        "id": "fzua--Vj7zgu",
        "colab_type": "code",
        "outputId": "7d605c4b-f026-40b4-e922-27be0727ae9d",
        "colab": {
          "base_uri": "https://localhost:8080/",
          "height": 35
        }
      },
      "source": [
        "2 < 5"
      ],
      "execution_count": 0,
      "outputs": [
        {
          "output_type": "execute_result",
          "data": {
            "text/plain": [
              "True"
            ]
          },
          "metadata": {
            "tags": []
          },
          "execution_count": 10
        }
      ]
    },
    {
      "cell_type": "code",
      "metadata": {
        "id": "e7iWiMCm70ho",
        "colab_type": "code",
        "outputId": "51d480cb-1581-408f-9c02-888765313ccc",
        "colab": {
          "base_uri": "https://localhost:8080/",
          "height": 35
        }
      },
      "source": [
        "2 >= 2"
      ],
      "execution_count": 0,
      "outputs": [
        {
          "output_type": "execute_result",
          "data": {
            "text/plain": [
              "True"
            ]
          },
          "metadata": {
            "tags": []
          },
          "execution_count": 11
        }
      ]
    },
    {
      "cell_type": "markdown",
      "metadata": {
        "id": "xcvTQ6sp7_xs",
        "colab_type": "text"
      },
      "source": [
        "Operator | Description \n",
        "\n",
        "  - '=='  -> if both are equal, then condition is True \n",
        "  \n",
        "           e.g (a==b) is not true\n",
        "  \n",
        "  - '!='   ->  if both are not equal, then condition is True\n",
        "          e.g (a!=b) is true\n",
        "  \n",
        "  - '>'    ->  if value of left is greater than value of the right, then condition is true\n",
        "                 \n",
        "          e.g (a>b) is not true       \n",
        "  \n",
        "  - '<'  ->     if va.ue of left is less than value of right, then condition is true\n",
        "          e.g   (a<b)  is true\n",
        "  \n",
        "  - '>=' -> if va.ue of left is less than value of right, then condition is true\n",
        "\n",
        "          e.g   (a>=b)  is not true\n",
        "  \n",
        "  - '<='  -> if va.ue of left is less than value of right, then condition is true\n",
        "\n",
        "         e.g   (a<=b)  is true"
      ]
    },
    {
      "cell_type": "markdown",
      "metadata": {
        "id": "pavFs1B8-CPR",
        "colab_type": "text"
      },
      "source": [
        "# Chaining Comparison Operators\n",
        "\n",
        "   - And\n",
        "   \n",
        "   - Or\n",
        "   \n",
        "   - Not"
      ]
    },
    {
      "cell_type": "code",
      "metadata": {
        "id": "BSScy4h273yp",
        "colab_type": "code",
        "outputId": "d29658cf-3d71-45db-c662-06e950367b5b",
        "colab": {
          "base_uri": "https://localhost:8080/",
          "height": 35
        }
      },
      "source": [
        "1 < 2 "
      ],
      "execution_count": 0,
      "outputs": [
        {
          "output_type": "execute_result",
          "data": {
            "text/plain": [
              "True"
            ]
          },
          "metadata": {
            "tags": []
          },
          "execution_count": 12
        }
      ]
    },
    {
      "cell_type": "code",
      "metadata": {
        "id": "gHly8JIu-VSe",
        "colab_type": "code",
        "outputId": "099a3be8-9296-456a-fe49-6b7812a856f5",
        "colab": {
          "base_uri": "https://localhost:8080/",
          "height": 35
        }
      },
      "source": [
        "2 < 3"
      ],
      "execution_count": 0,
      "outputs": [
        {
          "output_type": "execute_result",
          "data": {
            "text/plain": [
              "True"
            ]
          },
          "metadata": {
            "tags": []
          },
          "execution_count": 13
        }
      ]
    },
    {
      "cell_type": "code",
      "metadata": {
        "id": "vCEGySLC-WUQ",
        "colab_type": "code",
        "outputId": "1df7bddb-4349-413a-f8d9-641c8e7c4012",
        "colab": {
          "base_uri": "https://localhost:8080/",
          "height": 35
        }
      },
      "source": [
        "1 < 2 < 3"
      ],
      "execution_count": 0,
      "outputs": [
        {
          "output_type": "execute_result",
          "data": {
            "text/plain": [
              "True"
            ]
          },
          "metadata": {
            "tags": []
          },
          "execution_count": 14
        }
      ]
    },
    {
      "cell_type": "code",
      "metadata": {
        "id": "HPn5R-K7-coM",
        "colab_type": "code",
        "outputId": "e0f85c93-9818-4fa9-a84e-78ec9392e919",
        "colab": {
          "base_uri": "https://localhost:8080/",
          "height": 35
        }
      },
      "source": [
        "1 < 2 and 2 < 3"
      ],
      "execution_count": 0,
      "outputs": [
        {
          "output_type": "execute_result",
          "data": {
            "text/plain": [
              "True"
            ]
          },
          "metadata": {
            "tags": []
          },
          "execution_count": 15
        }
      ]
    },
    {
      "cell_type": "code",
      "metadata": {
        "id": "LREVCI-J-mEP",
        "colab_type": "code",
        "outputId": "0689a307-d5a4-4631-a03b-49f27993b66c",
        "colab": {
          "base_uri": "https://localhost:8080/",
          "height": 35
        }
      },
      "source": [
        "('h' == 'h') and (2 == 2)"
      ],
      "execution_count": 0,
      "outputs": [
        {
          "output_type": "execute_result",
          "data": {
            "text/plain": [
              "True"
            ]
          },
          "metadata": {
            "tags": []
          },
          "execution_count": 17
        }
      ]
    },
    {
      "cell_type": "code",
      "metadata": {
        "id": "pL53HiI5-v-C",
        "colab_type": "code",
        "outputId": "a1386431-e31c-45d5-cb99-8d705294ec01",
        "colab": {
          "base_uri": "https://localhost:8080/",
          "height": 35
        }
      },
      "source": [
        "1 == 1 or 2 == 3"
      ],
      "execution_count": 0,
      "outputs": [
        {
          "output_type": "execute_result",
          "data": {
            "text/plain": [
              "True"
            ]
          },
          "metadata": {
            "tags": []
          },
          "execution_count": 18
        }
      ]
    },
    {
      "cell_type": "code",
      "metadata": {
        "id": "46HvuzvO-7nf",
        "colab_type": "code",
        "outputId": "9f73c0a2-fdbc-4ff1-9ed9-c2cad8e217f1",
        "colab": {
          "base_uri": "https://localhost:8080/",
          "height": 35
        }
      },
      "source": [
        "100 == 1 or 2 == 2\n",
        "# only one needs to be true"
      ],
      "execution_count": 0,
      "outputs": [
        {
          "output_type": "execute_result",
          "data": {
            "text/plain": [
              "True"
            ]
          },
          "metadata": {
            "tags": []
          },
          "execution_count": 19
        }
      ]
    },
    {
      "cell_type": "code",
      "metadata": {
        "id": "wDodcONF_AY8",
        "colab_type": "code",
        "outputId": "76d168bc-b5c7-4e37-80cd-d027cd8633fa",
        "colab": {
          "base_uri": "https://localhost:8080/",
          "height": 35
        }
      },
      "source": [
        "not (1 == 1)"
      ],
      "execution_count": 0,
      "outputs": [
        {
          "output_type": "execute_result",
          "data": {
            "text/plain": [
              "False"
            ]
          },
          "metadata": {
            "tags": []
          },
          "execution_count": 20
        }
      ]
    },
    {
      "cell_type": "code",
      "metadata": {
        "id": "AyEUUChL_Nxx",
        "colab_type": "code",
        "outputId": "c6411a77-942d-42c6-91bb-3793851466d2",
        "colab": {
          "base_uri": "https://localhost:8080/",
          "height": 35
        }
      },
      "source": [
        "400 > 500"
      ],
      "execution_count": 0,
      "outputs": [
        {
          "output_type": "execute_result",
          "data": {
            "text/plain": [
              "False"
            ]
          },
          "metadata": {
            "tags": []
          },
          "execution_count": 21
        }
      ]
    },
    {
      "cell_type": "code",
      "metadata": {
        "id": "seU7Zadk_Tx5",
        "colab_type": "code",
        "outputId": "80d5ca07-8e04-4f22-b1a1-063c6f1ec1a2",
        "colab": {
          "base_uri": "https://localhost:8080/",
          "height": 35
        }
      },
      "source": [
        "not(400 > 500)"
      ],
      "execution_count": 0,
      "outputs": [
        {
          "output_type": "execute_result",
          "data": {
            "text/plain": [
              "True"
            ]
          },
          "metadata": {
            "tags": []
          },
          "execution_count": 22
        }
      ]
    },
    {
      "cell_type": "code",
      "metadata": {
        "id": "SIhV7n_A_W9a",
        "colab_type": "code",
        "colab": {}
      },
      "source": [
        ""
      ],
      "execution_count": 0,
      "outputs": []
    }
  ]
}