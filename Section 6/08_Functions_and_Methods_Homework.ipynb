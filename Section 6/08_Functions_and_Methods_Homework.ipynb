{
  "nbformat": 4,
  "nbformat_minor": 0,
  "metadata": {
    "colab": {
      "name": "08-Functions and Methods Homework.ipynb",
      "version": "0.3.2",
      "provenance": [],
      "collapsed_sections": []
    },
    "language_info": {
      "codemirror_mode": {
        "name": "ipython",
        "version": 3
      },
      "file_extension": ".py",
      "mimetype": "text/x-python",
      "name": "python",
      "nbconvert_exporter": "python",
      "pygments_lexer": "ipython3",
      "version": "3.6.2"
    },
    "kernelspec": {
      "display_name": "Python 3",
      "language": "python",
      "name": "python3"
    }
  },
  "cells": [
    {
      "cell_type": "markdown",
      "metadata": {
        "id": "sqLC6oEZEgOG",
        "colab_type": "text"
      },
      "source": [
        "# Functions and Methods Homework \n",
        "\n",
        "Complete the following questions:\n",
        "____\n",
        "**Write a function that computes the volume of a sphere given its radius.**\n",
        "<p>The volume of a sphere is given as $$\\frac{4}{3} πr^3$$</p>"
      ]
    },
    {
      "cell_type": "code",
      "metadata": {
        "id": "8ELYwzInEgOK",
        "colab_type": "code",
        "colab": {}
      },
      "source": [
        "def vol(rad):\n",
        "  return (4/3)*(3.14)*(rad**3)"
      ],
      "execution_count": 0,
      "outputs": []
    },
    {
      "cell_type": "code",
      "metadata": {
        "id": "mRaJdJ8CEgOQ",
        "colab_type": "code",
        "colab": {
          "base_uri": "https://localhost:8080/",
          "height": 35
        },
        "outputId": "692abfdb-7491-4ba7-b72e-f357bf4ba333"
      },
      "source": [
        "# Check\n",
        "vol(2)"
      ],
      "execution_count": 2,
      "outputs": [
        {
          "output_type": "execute_result",
          "data": {
            "text/plain": [
              "33.49333333333333"
            ]
          },
          "metadata": {
            "tags": []
          },
          "execution_count": 2
        }
      ]
    },
    {
      "cell_type": "markdown",
      "metadata": {
        "id": "cWSHx4kOEgOX",
        "colab_type": "text"
      },
      "source": [
        "___\n",
        "**Write a function that checks whether a number is in a given range (inclusive of high and low)**"
      ]
    },
    {
      "cell_type": "code",
      "metadata": {
        "id": "6novd9-lEgOZ",
        "colab_type": "code",
        "colab": {}
      },
      "source": [
        "def ran_check(num,low,high):\n",
        "  if num in range(low, high):\n",
        "    print('%s is in the range'%num)\n",
        "  else:\n",
        "    print('It is not in the range')"
      ],
      "execution_count": 0,
      "outputs": []
    },
    {
      "cell_type": "code",
      "metadata": {
        "id": "sgMyitLPEgOd",
        "colab_type": "code",
        "colab": {
          "base_uri": "https://localhost:8080/",
          "height": 35
        },
        "outputId": "e434e751-1582-4ba0-b261-e4b204f14e8f"
      },
      "source": [
        "# Check\n",
        "ran_check(5,2,7)"
      ],
      "execution_count": 16,
      "outputs": [
        {
          "output_type": "stream",
          "text": [
            "5 is in the range\n"
          ],
          "name": "stdout"
        }
      ]
    },
    {
      "cell_type": "markdown",
      "metadata": {
        "id": "QYTgYM2LEgOi",
        "colab_type": "text"
      },
      "source": [
        "If you only wanted to return a boolean:"
      ]
    },
    {
      "cell_type": "code",
      "metadata": {
        "id": "kO4FnDTrEgOj",
        "colab_type": "code",
        "colab": {}
      },
      "source": [
        "def ran_bool(num,low,high):\n",
        "    if num in range(low, high):\n",
        "      return True\n",
        "    else:\n",
        "      return False"
      ],
      "execution_count": 0,
      "outputs": []
    },
    {
      "cell_type": "code",
      "metadata": {
        "id": "Yl9slBSFJ-ST",
        "colab_type": "code",
        "colab": {}
      },
      "source": [
        "def ran_bool(num, low, high):\n",
        "  return num in range(low,high)"
      ],
      "execution_count": 0,
      "outputs": []
    },
    {
      "cell_type": "code",
      "metadata": {
        "id": "6_kwc5OfEgOo",
        "colab_type": "code",
        "colab": {
          "base_uri": "https://localhost:8080/",
          "height": 35
        },
        "outputId": "e0a7bc19-4e0e-4f1d-ac61-6fa1e578424b"
      },
      "source": [
        "ran_bool(3,1,10)"
      ],
      "execution_count": 20,
      "outputs": [
        {
          "output_type": "execute_result",
          "data": {
            "text/plain": [
              "True"
            ]
          },
          "metadata": {
            "tags": []
          },
          "execution_count": 20
        }
      ]
    },
    {
      "cell_type": "markdown",
      "metadata": {
        "id": "gnz4w6o8EgOu",
        "colab_type": "text"
      },
      "source": [
        "____\n",
        "**Write a Python function that accepts a string and calculates the number of upper case letters and lower case letters.**\n",
        "\n",
        "    Sample String : 'Hello Mr. Rogers, how are you this fine Tuesday?'\n",
        "    Expected Output : \n",
        "    No. of Upper case characters : 4\n",
        "    No. of Lower case Characters : 33\n",
        "\n",
        "HINT: Two string methods that might prove useful: **.isupper()** and **.islower()**\n",
        "\n",
        "If you feel ambitious, explore the Collections module to solve this problem!"
      ]
    },
    {
      "cell_type": "code",
      "metadata": {
        "id": "VsU_g229EgOv",
        "colab_type": "code",
        "colab": {}
      },
      "source": [
        "def up_low(s):\n",
        "  upper = 0\n",
        "  lower = 0\n",
        "  for char in s:\n",
        "    if char.isupper():\n",
        "      upper+=1\n",
        "    elif char.islower():\n",
        "      lower+=1\n",
        "    else:\n",
        "      pass\n",
        "  print('Original String:', s)\n",
        "  print('Number of Upper: %s' %upper)\n",
        "  print('Number of Lower: %s' %lower)"
      ],
      "execution_count": 0,
      "outputs": []
    },
    {
      "cell_type": "code",
      "metadata": {
        "id": "-UEyjQyUEgOz",
        "colab_type": "code",
        "colab": {
          "base_uri": "https://localhost:8080/",
          "height": 69
        },
        "outputId": "29a0f072-76da-4cff-d50d-c1187cee2366"
      },
      "source": [
        "s = 'Hello Mr. Rogers, how are you this fine Tuesday?'\n",
        "up_low(s)"
      ],
      "execution_count": 36,
      "outputs": [
        {
          "output_type": "stream",
          "text": [
            "Original String: Hello Mr. Rogers, how are you this fine Tuesday?\n",
            "Number of Upper: 4\n",
            "Number of Lower: 33\n"
          ],
          "name": "stdout"
        }
      ]
    },
    {
      "cell_type": "markdown",
      "metadata": {
        "id": "yn1zz8KCEgO7",
        "colab_type": "text"
      },
      "source": [
        "____\n",
        "**Write a Python function that takes a list and returns a new list with unique elements of the first list.**\n",
        "\n",
        "    Sample List : [1,1,1,1,2,2,3,3,3,3,4,5]\n",
        "    Unique List : [1, 2, 3, 4, 5]"
      ]
    },
    {
      "cell_type": "code",
      "metadata": {
        "id": "gsYPYSIdEgO9",
        "colab_type": "code",
        "colab": {}
      },
      "source": [
        "def unique_list(l):\n",
        "  x = []\n",
        "  for num in l:\n",
        "    if num not in x:\n",
        "      x.append(num)\n",
        "  return x"
      ],
      "execution_count": 0,
      "outputs": []
    },
    {
      "cell_type": "code",
      "metadata": {
        "id": "W3G2nMuYEgPC",
        "colab_type": "code",
        "colab": {
          "base_uri": "https://localhost:8080/",
          "height": 35
        },
        "outputId": "b43f9f57-998f-4e65-be4b-9f33841033da"
      },
      "source": [
        "unique_list([1,1,1,1,2,2,3,3,3,3,4,5])"
      ],
      "execution_count": 46,
      "outputs": [
        {
          "output_type": "execute_result",
          "data": {
            "text/plain": [
              "[1, 2, 3, 4, 5]"
            ]
          },
          "metadata": {
            "tags": []
          },
          "execution_count": 46
        }
      ]
    },
    {
      "cell_type": "markdown",
      "metadata": {
        "id": "U2D6IyGDEgPK",
        "colab_type": "text"
      },
      "source": [
        "____\n",
        "**Write a Python function to multiply all the numbers in a list.**\n",
        "\n",
        "    Sample List : [1, 2, 3, -4]\n",
        "    Expected Output : -24"
      ]
    },
    {
      "cell_type": "code",
      "metadata": {
        "id": "wNAZ4A27EgPM",
        "colab_type": "code",
        "colab": {}
      },
      "source": [
        "def multiply(numbers):  \n",
        "  total = numbers[0]\n",
        "  for num in numbers:\n",
        "    total*= num\n",
        "  return total"
      ],
      "execution_count": 0,
      "outputs": []
    },
    {
      "cell_type": "code",
      "metadata": {
        "id": "Q4pQAcvyEgPQ",
        "colab_type": "code",
        "colab": {
          "base_uri": "https://localhost:8080/",
          "height": 35
        },
        "outputId": "c14b5df6-df64-4544-cb0c-a7bdf8104156"
      },
      "source": [
        "multiply([1,2,3,-4])"
      ],
      "execution_count": 53,
      "outputs": [
        {
          "output_type": "execute_result",
          "data": {
            "text/plain": [
              "-24"
            ]
          },
          "metadata": {
            "tags": []
          },
          "execution_count": 53
        }
      ]
    },
    {
      "cell_type": "markdown",
      "metadata": {
        "id": "ttxZIy8uEgPV",
        "colab_type": "text"
      },
      "source": [
        "____\n",
        "**Write a Python function that checks whether a passed in string is palindrome or not.**\n",
        "\n",
        "Note: A palindrome is word, phrase, or sequence that reads the same backward as forward, e.g., madam or nurses run."
      ]
    },
    {
      "cell_type": "code",
      "metadata": {
        "id": "QTHByX_-EgPW",
        "colab_type": "code",
        "colab": {}
      },
      "source": [
        "def palindrome(s):\n",
        "    return s==s[::-1]"
      ],
      "execution_count": 0,
      "outputs": []
    },
    {
      "cell_type": "code",
      "metadata": {
        "id": "H0E6X-V5EgPa",
        "colab_type": "code",
        "colab": {
          "base_uri": "https://localhost:8080/",
          "height": 35
        },
        "outputId": "1bed5483-0178-4c06-d6cd-b0ddf0f7dd19"
      },
      "source": [
        "palindrome('helleh')"
      ],
      "execution_count": 55,
      "outputs": [
        {
          "output_type": "execute_result",
          "data": {
            "text/plain": [
              "True"
            ]
          },
          "metadata": {
            "tags": []
          },
          "execution_count": 55
        }
      ]
    },
    {
      "cell_type": "markdown",
      "metadata": {
        "id": "yqUnhiBhEgPi",
        "colab_type": "text"
      },
      "source": [
        "____\n",
        "#### Hard:\n",
        "\n",
        "**Write a Python function to check whether a string is pangram or not.**\n",
        "\n",
        "    Note : Pangrams are words or sentences containing every letter of the alphabet at least once.\n",
        "    For example : \"The quick brown fox jumps over the lazy dog\"\n",
        "\n",
        "Hint: Look at the string module"
      ]
    },
    {
      "cell_type": "code",
      "metadata": {
        "id": "9gbB56WBEgPj",
        "colab_type": "code",
        "colab": {}
      },
      "source": [
        "import string\n",
        "\n",
        "def ispangram(str1, alphabet=string.ascii_lowercase):\n",
        "    alpha = set(alphabet)\n",
        "    return alpha <= set(str1.lower())"
      ],
      "execution_count": 0,
      "outputs": []
    },
    {
      "cell_type": "code",
      "metadata": {
        "id": "t7zs7idcEgPt",
        "colab_type": "code",
        "colab": {
          "base_uri": "https://localhost:8080/",
          "height": 35
        },
        "outputId": "b26e7cb1-03ab-44a2-9b47-cea0e80a9e12"
      },
      "source": [
        "ispangram(\"The quick brown fox jumps over the lazy dog\")"
      ],
      "execution_count": 58,
      "outputs": [
        {
          "output_type": "execute_result",
          "data": {
            "text/plain": [
              "True"
            ]
          },
          "metadata": {
            "tags": []
          },
          "execution_count": 58
        }
      ]
    },
    {
      "cell_type": "code",
      "metadata": {
        "id": "utZWqR9pEgP3",
        "colab_type": "code",
        "colab": {
          "base_uri": "https://localhost:8080/",
          "height": 35
        },
        "outputId": "25afb526-9387-43ef-9ab3-13b6a05a639d"
      },
      "source": [
        "string.ascii_lowercase"
      ],
      "execution_count": 59,
      "outputs": [
        {
          "output_type": "execute_result",
          "data": {
            "text/plain": [
              "'abcdefghijklmnopqrstuvwxyz'"
            ]
          },
          "metadata": {
            "tags": []
          },
          "execution_count": 59
        }
      ]
    },
    {
      "cell_type": "markdown",
      "metadata": {
        "collapsed": true,
        "id": "Spq4M8WXEgQB",
        "colab_type": "text"
      },
      "source": [
        "#### Great Job!"
      ]
    }
  ]
}