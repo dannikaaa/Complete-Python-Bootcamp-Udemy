{
  "nbformat": 4,
  "nbformat_minor": 0,
  "metadata": {
    "colab": {
      "name": "Complete Python Bootcamp Nested Statements & Scope.ipynb",
      "version": "0.3.2",
      "provenance": [],
      "collapsed_sections": []
    },
    "kernelspec": {
      "name": "python3",
      "display_name": "Python 3"
    }
  },
  "cells": [
    {
      "cell_type": "code",
      "metadata": {
        "id": "fmDobCPA92a2",
        "colab_type": "code",
        "colab": {}
      },
      "source": [
        "x = 25\n",
        "\n",
        "def printer():\n",
        "  x = 50\n",
        "  return x"
      ],
      "execution_count": 0,
      "outputs": []
    },
    {
      "cell_type": "code",
      "metadata": {
        "id": "3cpLn35S-Oyr",
        "colab_type": "code",
        "colab": {
          "base_uri": "https://localhost:8080/",
          "height": 35
        },
        "outputId": "5e2dd9a8-3df6-4a69-9178-4660575f8928"
      },
      "source": [
        "print(x)"
      ],
      "execution_count": 2,
      "outputs": [
        {
          "output_type": "stream",
          "text": [
            "25\n"
          ],
          "name": "stdout"
        }
      ]
    },
    {
      "cell_type": "code",
      "metadata": {
        "id": "TnMIfZTb-Qis",
        "colab_type": "code",
        "colab": {
          "base_uri": "https://localhost:8080/",
          "height": 35
        },
        "outputId": "738d7c04-ac56-4d93-8e11-0cb2f49555dd"
      },
      "source": [
        "print(printer())"
      ],
      "execution_count": 3,
      "outputs": [
        {
          "output_type": "stream",
          "text": [
            "50\n"
          ],
          "name": "stdout"
        }
      ]
    },
    {
      "cell_type": "markdown",
      "metadata": {
        "id": "n7Vr7UVP-k1M",
        "colab_type": "text"
      },
      "source": [
        "# **LEGB Rule:**\n",
        "\n",
        "\n",
        "\n",
        "*   L: Local - Names assigned in any way withtin a function (def or lambda), and declared global in that function.\n",
        "*   E: Enclosing function locals - Names in the local scope of any and all enclosing function (def or lambda), from inner to outer.\n",
        "*   G: Global (module) - Names assigned at the top-level of a module file, or declared global in a def within the file\n",
        "*   B: Built-In (Python) - Names preassigned in the built-in names module: open, range, SyntaxError,...\n",
        "\n",
        "\n",
        "\n"
      ]
    },
    {
      "cell_type": "code",
      "metadata": {
        "id": "OZSnXnIw-WYC",
        "colab_type": "code",
        "colab": {}
      },
      "source": [
        "#GLOBAL\n",
        "name = 'THIS IS A GLOBAL STRING'\n",
        "\n",
        "def greet():\n",
        "  #enclosing\n",
        "  name = 'Sammy'\n",
        "  \n",
        "  def hello():\n",
        "    #LOCAL\n",
        "    name = 'LOCAL'\n",
        "    print('Hello '+ name)\n",
        "    \n",
        "  hello()"
      ],
      "execution_count": 0,
      "outputs": []
    },
    {
      "cell_type": "code",
      "metadata": {
        "id": "xINo6dI4CHHv",
        "colab_type": "code",
        "colab": {
          "base_uri": "https://localhost:8080/",
          "height": 35
        },
        "outputId": "9387618e-12d0-4dbe-c2bc-f33a5474569b"
      },
      "source": [
        "greet()"
      ],
      "execution_count": 8,
      "outputs": [
        {
          "output_type": "stream",
          "text": [
            "Hello THIS IS A GLOBAL STRING\n"
          ],
          "name": "stdout"
        }
      ]
    },
    {
      "cell_type": "code",
      "metadata": {
        "id": "V1ZtvinFCVo0",
        "colab_type": "code",
        "colab": {}
      },
      "source": [
        "x = 50\n",
        "def func(x):\n",
        "  print(f'X is {x}')\n",
        "  \n",
        "  #local reassignment\n",
        "  x = 200\n",
        "  print(f'I just locally changed x to {x}')"
      ],
      "execution_count": 0,
      "outputs": []
    },
    {
      "cell_type": "code",
      "metadata": {
        "id": "4ZJYtHGSDey0",
        "colab_type": "code",
        "colab": {
          "base_uri": "https://localhost:8080/",
          "height": 52
        },
        "outputId": "45b902f9-0fe6-4f96-b922-e0b0fcdde589"
      },
      "source": [
        "func(x)"
      ],
      "execution_count": 10,
      "outputs": [
        {
          "output_type": "stream",
          "text": [
            "X is 50\n",
            "I just locally changed x to 200\n"
          ],
          "name": "stdout"
        }
      ]
    },
    {
      "cell_type": "code",
      "metadata": {
        "id": "VqcSf2kODfuu",
        "colab_type": "code",
        "colab": {
          "base_uri": "https://localhost:8080/",
          "height": 35
        },
        "outputId": "ddb46b79-c46d-452d-c943-3440cf6437f4"
      },
      "source": [
        "print(x)"
      ],
      "execution_count": 11,
      "outputs": [
        {
          "output_type": "stream",
          "text": [
            "50\n"
          ],
          "name": "stdout"
        }
      ]
    },
    {
      "cell_type": "code",
      "metadata": {
        "id": "qzVCX2-GDgq6",
        "colab_type": "code",
        "colab": {}
      },
      "source": [
        "x = 50\n",
        "def func():\n",
        "  global x\n",
        "  print(f'X is {x}')\n",
        "  \n",
        "  #local reassignment\n",
        "  x = 'new value'\n",
        "  print(f'I just locally changed global x to {x}')"
      ],
      "execution_count": 0,
      "outputs": []
    },
    {
      "cell_type": "code",
      "metadata": {
        "id": "86YdDxwZEAJS",
        "colab_type": "code",
        "colab": {
          "base_uri": "https://localhost:8080/",
          "height": 35
        },
        "outputId": "142cb84a-a944-4db0-d543-0944180480b5"
      },
      "source": [
        "print(x)"
      ],
      "execution_count": 17,
      "outputs": [
        {
          "output_type": "stream",
          "text": [
            "50\n"
          ],
          "name": "stdout"
        }
      ]
    },
    {
      "cell_type": "code",
      "metadata": {
        "id": "k_-_U00REHeN",
        "colab_type": "code",
        "colab": {
          "base_uri": "https://localhost:8080/",
          "height": 52
        },
        "outputId": "84c0943e-0259-4049-d5e0-0ec0dd49cb37"
      },
      "source": [
        "func()"
      ],
      "execution_count": 18,
      "outputs": [
        {
          "output_type": "stream",
          "text": [
            "X is 50\n",
            "I just locally changed global x to new value\n"
          ],
          "name": "stdout"
        }
      ]
    },
    {
      "cell_type": "code",
      "metadata": {
        "id": "e5-BKk0rELQI",
        "colab_type": "code",
        "colab": {}
      },
      "source": [
        ""
      ],
      "execution_count": 0,
      "outputs": []
    }
  ]
}